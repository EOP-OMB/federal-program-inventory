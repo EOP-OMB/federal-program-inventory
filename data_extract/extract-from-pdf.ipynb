{
 "cells": [
  {
   "cell_type": "code",
   "execution_count": 12,
   "id": "13d973ce-7785-47f2-83f7-57e58a11bec5",
   "metadata": {},
   "outputs": [],
   "source": [
    "import pandas as pd\n",
    "from tabula import read_pdf"
   ]
  },
  {
   "cell_type": "code",
   "execution_count": 16,
   "id": "f747430e-0946-49e5-879b-56615c6a7df5",
   "metadata": {},
   "outputs": [],
   "source": [
    "# this process extracts the multiple columns of values on each page\n",
    "# because of how the PDF is designed, this results in the headers\n",
    "# being truncated; we gather those separately\n",
    "data_values = read_pdf(\n",
    "    'source_files/2022-assistance-listing-catalog.pdf',\n",
    "    output_format='dataframe',\n",
    "    pandas_options={'header': None},\n",
    "    pages=['151-208'],\n",
    "    stream=True,\n",
    "    multiple_tables=False,\n",
    "    area=[[55, 60, 735, 90], [55,310,735,340]],\n",
    "    encoding=\"utf-8\"\n",
    ")\n",
    "data_values = data_values[0]\n",
    "\n",
    "# remove a handful of outliers from page one that precede the template\n",
    "# these are only valid for the 2022 PDF\n",
    "data_values = data_values.drop(range(0,19))\n",
    "data_values = data_values.drop(55).reset_index(drop=True)\n",
    "\n",
    "# load in the 2022 functions list\n",
    "functions_df = pd.read_csv('source_files/2022-functions-list.csv', header=None)"
   ]
  },
  {
   "cell_type": "code",
   "execution_count": 17,
   "id": "4d0adc74-84ee-44bf-9e47-0803a69cd144",
   "metadata": {},
   "outputs": [],
   "source": [
    "parent = ''\n",
    "child = ''\n",
    "\n",
    "parent_col = []\n",
    "child_col = []\n",
    "remove_rows = []\n",
    "function_index = 0\n",
    "i = -1\n",
    "for row in data_values[0]:\n",
    "    i += 1\n",
    "    if i in [2110,2255]: # ignore on two-line sub-function \n",
    "        parent_col.append('')\n",
    "        child_col.append('')\n",
    "        remove_rows.append(i)\n",
    "        continue\n",
    "    if row[0].isdigit():\n",
    "        parent_col.append(parent)\n",
    "        child_col.append(child)\n",
    "        continue\n",
    "    if row.isupper():\n",
    "        parent_col.append('')\n",
    "        child_col.append('')\n",
    "        remove_rows.append(i)\n",
    "        continue\n",
    "    r = functions_df.loc[function_index]\n",
    "    function_index+=1\n",
    "    parent = r[0]\n",
    "    child = r[1]\n",
    "    parent_col.append('')\n",
    "    child_col.append('')\n",
    "    remove_rows.append(i)\n",
    "\n",
    "data_values[1] = parent_col\n",
    "data_values[2] = child_col\n",
    "data_values = data_values.drop(remove_rows).reset_index(drop=True)"
   ]
  },
  {
   "cell_type": "code",
   "execution_count": 20,
   "id": "0c632f39-7a0a-4551-b3ae-73c1085d6fe0",
   "metadata": {},
   "outputs": [],
   "source": [
    "data_values.to_csv('data_extracts/db_program_to_function_sub_function.csv', index=False, header=False)"
   ]
  },
  {
   "cell_type": "code",
   "execution_count": null,
   "id": "b3f4c6d3-b025-4356-890d-48017941375b",
   "metadata": {},
   "outputs": [],
   "source": []
  }
 ],
 "metadata": {
  "kernelspec": {
   "display_name": "Python 3 (ipykernel)",
   "language": "python",
   "name": "python3"
  },
  "language_info": {
   "codemirror_mode": {
    "name": "ipython",
    "version": 3
   },
   "file_extension": ".py",
   "mimetype": "text/x-python",
   "name": "python",
   "nbconvert_exporter": "python",
   "pygments_lexer": "ipython3",
   "version": "3.11.4"
  }
 },
 "nbformat": 4,
 "nbformat_minor": 5
}
